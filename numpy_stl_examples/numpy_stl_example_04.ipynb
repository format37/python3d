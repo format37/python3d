{
 "cells": [
  {
   "cell_type": "code",
   "execution_count": 1,
   "metadata": {},
   "outputs": [],
   "source": [
    "from stl import mesh\n",
    "import numpy as np\n",
    "import datetime"
   ]
  },
  {
   "cell_type": "code",
   "execution_count": 2,
   "metadata": {},
   "outputs": [],
   "source": [
    "time_start = datetime.datetime.now()"
   ]
  },
  {
   "cell_type": "code",
   "execution_count": 3,
   "metadata": {},
   "outputs": [],
   "source": [
    "def create_voxel(side, tx, ty, tz):\n",
    "    vertices = np.array([\n",
    "       [tx + 0,     ty + 0,      tz + 0],\n",
    "       [tx + side,  ty + 0,      tz + 0],\n",
    "       [tx + side,  ty + side,   tz + 0],\n",
    "       [tx + 0,     ty + side,   tz + 0],\n",
    "       [tx + 0,     ty + 0,      tz + side],\n",
    "       [tx + side,  ty + 0,      tz + side],\n",
    "       [tx + side,  ty + side,   tz + side],\n",
    "       [tx + 0,     ty + side,   tz + side]\n",
    "    ])\n",
    "\n",
    "    faces = np.array([\n",
    "        [3, 2, 1],\n",
    "        [3, 1, 0],\n",
    "        [0, 1, 5],#\n",
    "        [5, 4, 0],\n",
    "        [7, 3, 0],\n",
    "        [0, 4, 7],#\n",
    "        [1, 2, 6],#\n",
    "        [6, 5, 1],\n",
    "        [2, 3, 6],#\n",
    "        [3, 7, 6],#\n",
    "        [4, 5, 6],#\n",
    "        [6, 7, 4]\n",
    "     ])\n",
    "    voxel = mesh.Mesh(np.zeros(faces.shape[0], dtype=mesh.Mesh.dtype))\n",
    "    for i, f in enumerate(faces):\n",
    "        for j in range(3):\n",
    "            voxel.vectors[i][j] = vertices[f[j],:]\n",
    "    return voxel"
   ]
  },
  {
   "cell_type": "code",
   "execution_count": 4,
   "metadata": {},
   "outputs": [],
   "source": [
    "def voxel_in_hole(holes, x, y):\n",
    "    comp_error = 0\n",
    "    for hole in holes:\n",
    "        if  x + comp_error >= hole['x'][0] and x - comp_error < hole['x'][1] and \\\n",
    "            y + comp_error >= hole['y'][0] and y - comp_error < hole['y'][1]:\n",
    "            return True\n",
    "    return False"
   ]
  },
  {
   "cell_type": "code",
   "execution_count": 5,
   "metadata": {},
   "outputs": [],
   "source": [
    "depth = 3\n",
    "side = 1/(3**depth)"
   ]
  },
  {
   "cell_type": "code",
   "execution_count": 6,
   "metadata": {},
   "outputs": [],
   "source": [
    "# holes\n",
    "holes = []\n",
    "side = 1\n",
    "round_factor = 14\n",
    "for d in range(1, depth+1):\n",
    "    side /= 3\n",
    "    for x in range(1,3**d,3):\n",
    "        for y in range(1,3**d,3):           \n",
    "            holes.append({\n",
    "                'x':[round(side*x,round_factor), round(side*x+side,round_factor)],\n",
    "                'y':[round(side*y,round_factor), round(side*y+side,round_factor)]\n",
    "            })"
   ]
  },
  {
   "cell_type": "code",
   "execution_count": 7,
   "metadata": {},
   "outputs": [],
   "source": [
    "sponge = None\n",
    "for x in range(3**depth):\n",
    "    for y in range(3**depth):\n",
    "        for z in range(3**depth):\n",
    "            rx = round(x/(3**depth),round_factor)\n",
    "            ry = round(y/(3**depth),round_factor)\n",
    "            rz = round(z/(3**depth),round_factor)\n",
    "            if  voxel_in_hole(holes, ry, rz) or \\\n",
    "                voxel_in_hole(holes, rx, ry) or \\\n",
    "                voxel_in_hole(holes, rx, rz):\n",
    "                continue\n",
    "            if sponge is None:\n",
    "                sponge = create_voxel(side, x/(3**depth), y/(3**depth), z/(3**depth))\n",
    "            else:\n",
    "                new_voxel = create_voxel(side, x/(3**depth), y/(3**depth), z/(3**depth))\n",
    "                sponge = mesh.Mesh(np.concatenate([sponge.data, new_voxel.data]))"
   ]
  },
  {
   "cell_type": "code",
   "execution_count": 8,
   "metadata": {},
   "outputs": [],
   "source": [
    "sponge.save('numpy_stl_example_04.stl')"
   ]
  },
  {
   "cell_type": "code",
   "execution_count": 9,
   "metadata": {},
   "outputs": [
    {
     "name": "stdout",
     "output_type": "stream",
     "text": [
      "spent 24 seconds\n"
     ]
    }
   ],
   "source": [
    "time_end = datetime.datetime.now()\n",
    "print('spent', (time_end - time_start).seconds, 'seconds')"
   ]
  }
 ],
 "metadata": {
  "kernelspec": {
   "display_name": "Python 3 (ipykernel)",
   "language": "python",
   "name": "python3"
  },
  "language_info": {
   "codemirror_mode": {
    "name": "ipython",
    "version": 3
   },
   "file_extension": ".py",
   "mimetype": "text/x-python",
   "name": "python",
   "nbconvert_exporter": "python",
   "pygments_lexer": "ipython3",
   "version": "3.8.10"
  }
 },
 "nbformat": 4,
 "nbformat_minor": 2
}
