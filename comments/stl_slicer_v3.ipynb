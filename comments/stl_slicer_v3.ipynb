{
 "cells": [
  {
   "cell_type": "code",
   "execution_count": 58,
   "id": "75e4e085",
   "metadata": {},
   "outputs": [],
   "source": [
    "import numpy as np"
   ]
  },
  {
   "cell_type": "code",
   "execution_count": 2,
   "id": "42b52258",
   "metadata": {},
   "outputs": [],
   "source": [
    "from stl import mesh\n",
    "from PIL import Image"
   ]
  },
  {
   "cell_type": "code",
   "execution_count": 67,
   "id": "21674f18",
   "metadata": {},
   "outputs": [],
   "source": [
    "\"\"\"\n",
    "1. read stl file\n",
    "2. convert mesh to depth map image\n",
    "\"\"\"\n",
    "# Load the STL files and add the vectors to the plot\n",
    "filename = 'example.stl'\n",
    "your_mesh = mesh.Mesh.from_file(filename)\n",
    "\n",
    "# Convert mesh to depth map image\n",
    "depth_map = your_mesh.vectors.astype(int)\n",
    "#depth_map = depth_map.reshape(-1, 3)\n",
    "#depth_map = depth_map[depth_map[:, 2].argsort()]\n",
    "#depth_map = depth_map.reshape(-1, 3, 3)\n",
    "\n",
    "# plot the depth map"
   ]
  },
  {
   "cell_type": "code",
   "execution_count": 69,
   "id": "31c071e0",
   "metadata": {},
   "outputs": [
    {
     "data": {
      "text/plain": [
       "array([[[  23, -146, -208],\n",
       "        [  15, -142, -203],\n",
       "        [  39, -115, -208]],\n",
       "\n",
       "       [[  39, -115, -208],\n",
       "        [  15, -142, -203],\n",
       "        [  31, -111, -203]],\n",
       "\n",
       "       [[  30, -150, -203],\n",
       "        [  23, -146, -208],\n",
       "        [  46, -119, -203]],\n",
       "\n",
       "       ...,\n",
       "\n",
       "       [[  87, -117, -196],\n",
       "        [  83, -116, -196],\n",
       "        [  85, -115, -196]],\n",
       "\n",
       "       [[  87, -117, -196],\n",
       "        [  85, -115, -196],\n",
       "        [  87, -115, -196]],\n",
       "\n",
       "       [[  87, -115, -196],\n",
       "        [  85, -115, -196],\n",
       "        [  88, -113, -196]]])"
      ]
     },
     "execution_count": 69,
     "metadata": {},
     "output_type": "execute_result"
    }
   ],
   "source": [
    "depth_map"
   ]
  },
  {
   "cell_type": "code",
   "execution_count": 65,
   "id": "0fb812cf",
   "metadata": {},
   "outputs": [
    {
     "data": {
      "text/plain": [
       "(1772, 3, 3)"
      ]
     },
     "execution_count": 65,
     "metadata": {},
     "output_type": "execute_result"
    }
   ],
   "source": [
    "depth_map.shape"
   ]
  },
  {
   "cell_type": "code",
   "execution_count": 64,
   "id": "dff8ee62",
   "metadata": {},
   "outputs": [
    {
     "data": {
      "text/plain": [
       "88"
      ]
     },
     "execution_count": 64,
     "metadata": {},
     "output_type": "execute_result"
    }
   ],
   "source": [
    "depth_map[i,j,0]"
   ]
  },
  {
   "cell_type": "code",
   "execution_count": 55,
   "id": "1b7ada53",
   "metadata": {},
   "outputs": [
    {
     "data": {
      "text/plain": [
       "(0, 0, 0)"
      ]
     },
     "execution_count": 55,
     "metadata": {},
     "output_type": "execute_result"
    }
   ],
   "source": [
    "i, j, pixels[i, j]"
   ]
  },
  {
   "cell_type": "code",
   "execution_count": 56,
   "id": "7d8737dd",
   "metadata": {},
   "outputs": [
    {
     "data": {
      "text/plain": [
       "<PixelAccess at 0x7fbaec44cf10>"
      ]
     },
     "execution_count": 56,
     "metadata": {},
     "output_type": "execute_result"
    }
   ],
   "source": [
    "pixels"
   ]
  },
  {
   "cell_type": "code",
   "execution_count": 66,
   "id": "d9c44e89",
   "metadata": {},
   "outputs": [
    {
     "name": "stderr",
     "output_type": "stream",
     "text": [
      "/tmp/ipykernel_57176/3765294415.py:5: DeprecationWarning: `np.int` is a deprecated alias for the builtin `int`. To silence this warning, use `int` by itself. Doing this will not modify any behavior and is safe. When replacing `np.int`, you may wish to use e.g. `np.int64` or `np.int32` to specify the precision. If you wish to review your current use, check the release note link for additional information.\n",
      "Deprecated in NumPy 1.20; for more details and guidance: https://numpy.org/devdocs/release/1.20.0-notes.html#deprecations\n",
      "  pixels[i, j] = np.int(depth_map[i, j, 0])\n"
     ]
    }
   ],
   "source": [
    "img = Image.new('L', (depth_map.shape[0], depth_map.shape[1]), \"black\")\n",
    "pixels = img.load()\n",
    "for i in range(img.size[0]):\n",
    "    for j in range(img.size[1]):\n",
    "        pixels[i, j] = np.int(depth_map[i, j, 0])\n",
    "img.save('my.png')\n",
    "img.show()"
   ]
  },
  {
   "cell_type": "code",
   "execution_count": 26,
   "id": "e514fccc",
   "metadata": {},
   "outputs": [
    {
     "data": {
      "text/plain": [
       "(1772, 3)"
      ]
     },
     "execution_count": 26,
     "metadata": {},
     "output_type": "execute_result"
    }
   ],
   "source": [
    "img.size[0], img.size[1]"
   ]
  },
  {
   "cell_type": "code",
   "execution_count": 31,
   "id": "c81c627a",
   "metadata": {},
   "outputs": [
    {
     "data": {
      "text/plain": [
       "106"
      ]
     },
     "execution_count": 31,
     "metadata": {},
     "output_type": "execute_result"
    }
   ],
   "source": [
    "depth_map[600,2,0]"
   ]
  }
 ],
 "metadata": {
  "kernelspec": {
   "display_name": "Python (ml03)",
   "language": "python",
   "name": "myenv"
  },
  "language_info": {
   "codemirror_mode": {
    "name": "ipython",
    "version": 3
   },
   "file_extension": ".py",
   "mimetype": "text/x-python",
   "name": "python",
   "nbconvert_exporter": "python",
   "pygments_lexer": "ipython3",
   "version": "3.9.7"
  }
 },
 "nbformat": 4,
 "nbformat_minor": 5
}
